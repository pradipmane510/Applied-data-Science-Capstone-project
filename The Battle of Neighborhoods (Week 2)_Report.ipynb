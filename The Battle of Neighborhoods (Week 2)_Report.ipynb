{
    "cells": [
        {
            "metadata": {
                "collapsed": true
            },
            "cell_type": "markdown",
            "source": "# A Recommendation System for Restaurant Finder"
        },
        {
            "metadata": {},
            "cell_type": "markdown",
            "source": "## Introduction"
        },
        {
            "metadata": {},
            "cell_type": "markdown",
            "source": "### 1: Problem Description"
        },
        {
            "metadata": {},
            "cell_type": "markdown",
            "source": "This Restaurant Finder provides places such as: Different types of Restaurants, Bakery, Breakfast Spot, Brewery and Caf\u00e9 with fresh and high-quality groceries. Restaurant Finder make a great way to look up and discover great places to eat at or order in from, letting a user explore all the dining options in one of the boroughs of Toronto (Scarborough).\nThe key objective of a Restaurant Finder is to provide users with a curated list of all the restaurants based on their location or search criterion. In spite of making a time taking research on the Internet, one can simply look up for and locate best restaurants as per their location, taste, and preferred cuisine.\nUsers can simply browse through restaurants\u2019 menus, pictures, ratings and reviews; and decide where they want to eat. Restaurant Finder Apps can also be used to look for meal take away and delivery services, cafes, night clubs, grocery stores, super markets, etc."
        },
        {
            "metadata": {},
            "cell_type": "markdown",
            "source": "### 2: Data Gathering"
        },
        {
            "metadata": {},
            "cell_type": "markdown",
            "source": "1- We will need geo-locational information about that specific borough and the neighborhoods in that borough. We specifically and technically mean the latitude and longitude numbers of that borough. We assume that it is \"Scarborough\" in Toronto. The Postal Codes that fall into that borough (Scarborough) would also be sufficient fo us. I fact we will first find neighborhoods inside Scarborough by their corresponding Postal Codes."
        },
        {
            "metadata": {},
            "cell_type": "markdown",
            "source": "2- We will need data about different venues in different neighborhoods of that specific borough. In order to gain that information we will use \"Foursquare\" locational information. By locational information for each venue we mean basic and advanced information about that venue. For example there is a venue in one of the neighborhoods. As basic information, we can obtain its precise latitude and longitude and also its distance from the center of the neighborhood. But we are looking for advanced information such as the category of that venue and whether this venue is a popular one in its category or maybe the average price of the services of this venue. "
        },
        {
            "metadata": {},
            "cell_type": "markdown",
            "source": "A typical request from Foursquare will provide us with the following information:\n\n[Postal Code] [Neighborhood(s)] [Neighborhood Latitude] [Neighborhood Longitude] [Venue] [Venue Summary] [Venue Category] [Distance (meter)]\n\n[M1L] [Clairlea, Golden Mile, Oakridge] [43.711112] [-79.284577] [Tim Hortons] [This spot is popular] [Coffee Shop] [592]\n"
        },
        {
            "metadata": {},
            "cell_type": "markdown",
            "source": "### Methodology"
        },
        {
            "metadata": {},
            "cell_type": "markdown",
            "source": "1. Finding Neighborhoods inside \"Scarborough\""
        },
        {
            "metadata": {},
            "cell_type": "markdown",
            "source": "We will use Postal Codes of different regions inside Scarborough to find the list of neighborhoods. We will  obtain information from https://en.wikipedia.org/wiki/List_of_postal_codes_of_Canada:_M and then process the table inside this site. Images from dataframes and also from maps will be provided in the presentation."
        },
        {
            "metadata": {},
            "cell_type": "markdown",
            "source": "2: Using Foursquare and Retrieving Locational Data for Each Venue in Every Neighborhood"
        },
        {
            "metadata": {},
            "cell_type": "markdown",
            "source": "After finding the list of neighborhoods, we then connect to the Foursquare API to gather information about venues inside each and every neighborhood. For each neighborhood, we have chosen the radius to be 1000 meter. It means that we have asked Foursquare to find venues that are at most 1000 meter far from the center of the neighborhood."
        },
        {
            "metadata": {},
            "cell_type": "markdown",
            "source": "3: Processing the Extracted Data and Creating a DataFrome for All the Venues inside the Scarborough"
        },
        {
            "metadata": {},
            "cell_type": "markdown",
            "source": "When the data is completely gathered, we will perform processing on that raw data to find our desirable features for each venue. Our main feature is the category of that venue. After this stage, the column \"Venue's Category\" wil be One-hot encoded and different venues will have different feature-columns. After On-hot encoding we will integrate all restaurant columns to one column \"Total Restaurants\" and all food joint columns to \"Total Joints\" column. We assumed that different resaturants use the Same raw groceries. This assumption is made for simplicity and due to not having a very detailed dataset about different venues"
        },
        {
            "metadata": {},
            "cell_type": "markdown",
            "source": "4: Applying one of Machine Learning Techniques (K-Means Clustering)"
        },
        {
            "metadata": {},
            "cell_type": "markdown",
            "source": "we cluster neighborhoods via K-means clustering method. We think that 5 clusters is enough and can cover the complexity of our problem. After clustering we will update our dataset and create a column representing the group for each neighborhood."
        },
        {
            "metadata": {},
            "cell_type": "markdown",
            "source": "Decision Making and Reporting Results"
        },
        {
            "metadata": {},
            "cell_type": "markdown",
            "source": "Now, we focus on the centers of clusters and compare them for their \"Total Restaurants\" and their \"Total Joints\". The group which its center has the highest \"Total Sum\" will be our best recommendation. {Note: Total Sum = Total Restaurants + Total Joints + Other Venues.} "
        },
        {
            "metadata": {},
            "cell_type": "markdown",
            "source": "### Results:"
        },
        {
            "metadata": {},
            "cell_type": "markdown",
            "source": "Best Group is G5;\n\nSecond Best Group is G4;\n\nThird Best Group is G2;"
        },
        {
            "metadata": {},
            "cell_type": "code",
            "source": "",
            "execution_count": null,
            "outputs": []
        }
    ],
    "metadata": {
        "kernelspec": {
            "name": "python3",
            "display_name": "Python 3.6",
            "language": "python"
        },
        "language_info": {
            "name": "python",
            "version": "3.6.9",
            "mimetype": "text/x-python",
            "codemirror_mode": {
                "name": "ipython",
                "version": 3
            },
            "pygments_lexer": "ipython3",
            "nbconvert_exporter": "python",
            "file_extension": ".py"
        }
    },
    "nbformat": 4,
    "nbformat_minor": 1
}